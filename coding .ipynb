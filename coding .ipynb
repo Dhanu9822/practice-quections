{
 "cells": [
  {
   "cell_type": "markdown",
   "id": "ac11e8fe-6eba-428e-adbf-3f4d79048d9a",
   "metadata": {},
   "source": [
    "\n",
    "### 1. Check if a Number is Positive and Negative in Python\n",
    "\n",
    "### Given an integer input, The objective is to write a code to Check if a Number is Positive or Negative"
   ]
  },
  {
   "cell_type": "code",
   "execution_count": 3,
   "id": "a7ed22b7-1925-4610-b393-61b4c09f5e14",
   "metadata": {},
   "outputs": [
    {
     "name": "stdin",
     "output_type": "stream",
     "text": [
      "num = -9\n"
     ]
    },
    {
     "name": "stdout",
     "output_type": "stream",
     "text": [
      " number is negative integer\n"
     ]
    }
   ],
   "source": [
    "i= int(input(\"num =\"))\n",
    "if i>0:\n",
    "    print(\" number is positive integer\")\n",
    "else:\n",
    "    print(\" number is negative integer\")"
   ]
  },
  {
   "cell_type": "markdown",
   "id": "7c08b151-98f4-4cdd-9c6d-ad97462dd56e",
   "metadata": {},
   "source": [
    "### 2. Check Whether a Number is Even or Odd in Python\n",
    "### Given an integer input num, the objective is to write a code to Check Whether a Number is Even or Odd in Python. To do so we check if the number is divisible by 2 or not, it’s Even if it’s divisible otherwise Odd"
   ]
  },
  {
   "cell_type": "code",
   "execution_count": 7,
   "id": "2f1bf318-c1ee-4c1a-b3b9-d443c852eea2",
   "metadata": {},
   "outputs": [
    {
     "name": "stdin",
     "output_type": "stream",
     "text": [
      "num= 89\n"
     ]
    },
    {
     "name": "stdout",
     "output_type": "stream",
     "text": [
      "number is odd\n"
     ]
    }
   ],
   "source": [
    " num = int(input(\"num=\"))\n",
    "if num%2==0:\n",
    "    print(\"number is even\")\n",
    "else:\n",
    "    print(\"number is odd\")"
   ]
  },
  {
   "cell_type": "markdown",
   "id": "3b3569f0-4cd5-4db1-abf0-9eaf9318e9f6",
   "metadata": {},
   "source": [
    "### 3. Find the Sum of The First N Natural Numbers in Python\n",
    "### Given an integer input the objective is to write a code to Find the Sum of First N Natural Numbers\n"
   ]
  },
  {
   "cell_type": "code",
   "execution_count": 13,
   "id": "8c87538c-f7ff-4bad-8cab-11f73089a044",
   "metadata": {},
   "outputs": [
    {
     "name": "stdin",
     "output_type": "stream",
     "text": [
      "num= 7\n"
     ]
    },
    {
     "name": "stdout",
     "output_type": "stream",
     "text": [
      "28\n"
     ]
    }
   ],
   "source": [
    "num=int(input(\"num=\"))\n",
    "total=0\n",
    "for i in range (1,num+1):\n",
    "   total=total+i\n",
    "print(total)"
   ]
  },
  {
   "cell_type": "markdown",
   "id": "27065a25-af67-4f5d-8781-ce39e2fb8a8b",
   "metadata": {},
   "source": [
    "### 4. Find the Sum of N Natural Numbers in Python\n",
    "   \n",
    "### Given an integer input number, the objective is to sum all the numbers that lay from 1 to the integer input number and print the sum"
   ]
  },
  {
   "cell_type": "code",
   "execution_count": 21,
   "id": "bf4aedf1-8563-4216-b931-c6fef8d1ec0c",
   "metadata": {},
   "outputs": [
    {
     "name": "stdin",
     "output_type": "stream",
     "text": [
      "num= 8\n"
     ]
    },
    {
     "name": "stdout",
     "output_type": "stream",
     "text": [
      "36\n"
     ]
    }
   ],
   "source": [
    "num=int(input(\"num=\"))\n",
    "total=0\n",
    "for i in range (1,num+1):\n",
    "    total=total+i\n",
    "print(total)"
   ]
  },
  {
   "cell_type": "markdown",
   "id": "afac2e64-c150-4e13-83f9-b18172fd8c3d",
   "metadata": {},
   "source": [
    "### 5. Find the Sum of the Numbers in a Given Range\n",
    "### Given two integer inputs as the range [ low , high ], the objective is to find the sum of the numbers that lay in the intervals given by the integer inputs.\n"
   ]
  },
  {
   "cell_type": "code",
   "execution_count": 28,
   "id": "2beeb9d2-cbae-4acb-ad46-5d9c07b15ce2",
   "metadata": {},
   "outputs": [
    {
     "name": "stdin",
     "output_type": "stream",
     "text": [
      "num1 = 45\n",
      "num2 = 67\n"
     ]
    },
    {
     "name": "stdout",
     "output_type": "stream",
     "text": [
      "1288\n"
     ]
    }
   ],
   "source": [
    "num1= int(input(\"num1 =\"))\n",
    "num2= int(input(\"num2 =\"))\n",
    "total = 0\n",
    "for i in range(num1,num2+1):\n",
    "    total = total+i\n",
    "print(total)"
   ]
  },
  {
   "cell_type": "markdown",
   "id": "239fd64c-988c-471d-b66b-3c73cc8455fb",
   "metadata": {},
   "source": [
    "### 6. Find the Greatest of the Two Numbers\n",
    "### Given two integer inputs as number1 and number2, the objective is to find the largest among the two."
   ]
  },
  {
   "cell_type": "code",
   "execution_count": 12,
   "id": "0eca467d-32a3-48b2-98e0-68fd573a1b46",
   "metadata": {},
   "outputs": [
    {
     "name": "stdin",
     "output_type": "stream",
     "text": [
      "n1= 56\n",
      "n2= 67\n"
     ]
    },
    {
     "name": "stdout",
     "output_type": "stream",
     "text": [
      "n2 is greater: 67\n"
     ]
    }
   ],
   "source": [
    "n1= int(input(\"n1=\"))\n",
    "n2= int(input(\"n2=\"))\n",
    "if n1>n2:\n",
    "  print(\"n1 is greater:\",(n1))\n",
    "else:\n",
    "  print(\"n2 is greater:\",(n2))"
   ]
  },
  {
   "cell_type": "markdown",
   "id": "1c2b936c-836e-45c1-8959-09457eb7bf50",
   "metadata": {},
   "source": [
    "### 7. Find the Greatest of the Three Numbers\n",
    "### Given three integer inputs the objective is to find the largest among them"
   ]
  },
  {
   "cell_type": "code",
   "execution_count": 19,
   "id": "e2803c60-c89c-4fa1-97b5-7f7424fa7ad2",
   "metadata": {},
   "outputs": [
    {
     "name": "stdout",
     "output_type": "stream",
     "text": [
      "45\n"
     ]
    }
   ],
   "source": [
    "n1= 10\n",
    "n2=30\n",
    "n3=45\n",
    "if n1>n2:\n",
    "    print(n1)\n",
    "elif n2>n3:\n",
    "    print(n2)\n",
    "else: \n",
    "   print(n3)"
   ]
  },
  {
   "cell_type": "markdown",
   "id": "2f6a0b06-fdba-4255-a707-954e8c2accab",
   "metadata": {},
   "source": [
    "### 8. Check Whether a Year is a Leap Year or Not"
   ]
  },
  {
   "cell_type": "code",
   "execution_count": 1,
   "id": "4d6150c8-7a43-4d5e-bbd2-9d68b4c9d3e5",
   "metadata": {},
   "outputs": [
    {
     "name": "stdout",
     "output_type": "stream",
     "text": [
      "30 is not leap year\n"
     ]
    }
   ],
   "source": [
    "\n",
    "def leap(num):\n",
    "  if num%400 ==0 or (num%4==0 and num%100!=0 ):\n",
    "    print(f\"{num} is leap year\")\n",
    "  else:\n",
    "    print(f\"{num} is not leap year\")\n",
    "leap(30)"
   ]
  },
  {
   "cell_type": "markdown",
   "id": "9f0b4919-36e3-43a3-a9a4-208c454038ba",
   "metadata": {},
   "source": [
    "### 9. Check Whether a Number is a Prime or Not"
   ]
  },
  {
   "cell_type": "code",
   "execution_count": 46,
   "id": "a06c8c3d-a47d-4efb-860b-c85f9c491e49",
   "metadata": {},
   "outputs": [
    {
     "name": "stdout",
     "output_type": "stream",
     "text": [
      "3is prime number\n"
     ]
    }
   ],
   "source": [
    "def primenum(number):\n",
    "    flag = False\n",
    "    if number == 1:\n",
    "        print(f\"{number} is not prime number\")\n",
    "    if number ==2:\n",
    "        print(f\"{number} is prime number\")\n",
    "    for i in range(2,int(number//2)+1):\n",
    "        if number%i==0:\n",
    "           flag =True\n",
    "           braek\n",
    "    if flag :\n",
    "       print(f\"{number} is not prime number\")\n",
    "    else :\n",
    "       print(f\"{number}is prime number\")\n",
    "primenum(3)"
   ]
  },
  {
   "cell_type": "markdown",
   "id": "a7da9a16-db5a-4138-9095-a572e9ffc82b",
   "metadata": {},
   "source": [
    "### "
   ]
  },
  {
   "cell_type": "code",
   "execution_count": 52,
   "id": "6a3bf88f-7e12-46ae-bb1a-5266dcfa3094",
   "metadata": {},
   "outputs": [
    {
     "name": "stdin",
     "output_type": "stream",
     "text": [
      "Enter a number:  7\n"
     ]
    },
    {
     "name": "stdout",
     "output_type": "stream",
     "text": [
      "7 is a prime number.\n"
     ]
    }
   ],
   "source": [
    "def is_prime(n):\n",
    "    if n <= 1:\n",
    "        return False\n",
    "    for i in range(2, int(n**0.5) + 1):\n",
    "        if n % i == 0:\n",
    "            return False\n",
    "    return True\n",
    "\n",
    "num = int(input(\"Enter a number: \"))\n",
    "if is_prime(num):\n",
    "    print(num, \"is a prime number.\")\n",
    "else:\n",
    "    print(num, \"is not a prime number.\")\n"
   ]
  },
  {
   "cell_type": "markdown",
   "id": "b5f5efac-5e9a-427a-b8da-d6b1be0418d1",
   "metadata": {},
   "source": [
    "### 10. Find the Prime Numbers in a Given Interval"
   ]
  },
  {
   "cell_type": "code",
   "execution_count": 55,
   "id": "ebe757e4-3159-4de4-8eb7-3bd180669d35",
   "metadata": {},
   "outputs": [
    {
     "name": "stdin",
     "output_type": "stream",
     "text": [
      "Enter the start of the interval:  3\n",
      "Enter the end of the interval:  90\n"
     ]
    },
    {
     "name": "stdout",
     "output_type": "stream",
     "text": [
      "Prime numbers in the interval [ 3 ,  90 ] are:\n",
      "[3, 5, 7, 11, 13, 17, 19, 23, 29, 31, 37, 41, 43, 47, 53, 59, 61, 67, 71, 73, 79, 83, 89]\n"
     ]
    }
   ],
   "source": [
    "\n",
    "def find_primes(start, end):\n",
    "    primes = []\n",
    "    for num in range(start, end + 1):\n",
    "        if num > 1:\n",
    "            is_prime = True\n",
    "            for i in range(2, int(num ** 0.5) + 1):\n",
    "                if num % i == 0:\n",
    "                    is_prime = False\n",
    "                    break\n",
    "            if is_prime:\n",
    "                primes.append(num)\n",
    "    return primes\n",
    "\n",
    "start_interval = int(input(\"Enter the start of the interval: \"))\n",
    "end_interval = int(input(\"Enter the end of the interval: \"))\n",
    "\n",
    "primes_in_interval = find_primes(start_interval, end_interval)\n",
    "\n",
    "print(\"Prime numbers in the interval [\", start_interval, \", \", end_interval, \"] are:\")\n",
    "print(primes_in_interval)"
   ]
  },
  {
   "cell_type": "code",
   "execution_count": 57,
   "id": "c17f9551-dab5-4933-9356-929d4288360e",
   "metadata": {},
   "outputs": [
    {
     "name": "stdout",
     "output_type": "stream",
     "text": [
      "[2, 3, 5, 7]\n"
     ]
    }
   ],
   "source": [
    "def primeininterval(num1,num2):\n",
    "    primes=[]\n",
    "    for i in range(num1, num2+1):\n",
    "        flag = False\n",
    "        if i == 1:\n",
    "            continue\n",
    "        elif i == 2:\n",
    "            primes.append(2)\n",
    "            continue\n",
    "        for x in range(num1, i):\n",
    "            if i%x==0:\n",
    "                flag = True\n",
    "                break\n",
    "\n",
    "        if flag==False:\n",
    "            primes.append(i)\n",
    "    print(primes)   \n",
    "primeininterval(2,10)"
   ]
  },
  {
   "cell_type": "markdown",
   "id": "0dfe53db-cf58-494c-a1d8-8a5665edff85",
   "metadata": {},
   "source": [
    "### 11. Find the sum of the Digits of a Number."
   ]
  },
  {
   "cell_type": "code",
   "execution_count": 60,
   "id": "cfd781d6-4e0e-4024-bbe8-deeb7951719d",
   "metadata": {},
   "outputs": [
    {
     "name": "stdin",
     "output_type": "stream",
     "text": [
      "Enter a Number :  7777\n"
     ]
    },
    {
     "name": "stdout",
     "output_type": "stream",
     "text": [
      "Sum of Digits Of Number is :  28\n"
     ]
    }
   ],
   "source": [
    "def digitsum():\n",
    "    num = int(input(\"Enter a Number : \"))\n",
    "    temp = num\n",
    "    sum=0\n",
    "    i = 1\n",
    "    while(temp):\n",
    "        remainder = temp%10\n",
    "        sum += remainder\n",
    "        temp = temp//10\n",
    "    print(\"Sum of Digits Of Number is : \",sum)\n",
    "digitsum()"
   ]
  },
  {
   "cell_type": "code",
   "execution_count": null,
   "id": "b1d84bd5-7d8f-4320-98c5-1daf02c2262d",
   "metadata": {},
   "outputs": [],
   "source": []
  }
 ],
 "metadata": {
  "kernelspec": {
   "display_name": "Python [conda env:base] *",
   "language": "python",
   "name": "conda-base-py"
  },
  "language_info": {
   "codemirror_mode": {
    "name": "ipython",
    "version": 3
   },
   "file_extension": ".py",
   "mimetype": "text/x-python",
   "name": "python",
   "nbconvert_exporter": "python",
   "pygments_lexer": "ipython3",
   "version": "3.12.7"
  }
 },
 "nbformat": 4,
 "nbformat_minor": 5
}
