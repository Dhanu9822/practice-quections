{
 "cells": [
  {
   "cell_type": "raw",
   "id": "d3bda9a5-4e07-4f36-92e1-4a3e63bac76a",
   "metadata": {},
   "source": [
    "\n",
    "1. Check if a Number is Positive and Negative in Python\n",
    "\n",
    "Given an integer input, The objective is to write a code to Check if a Number is Positive or Negative"
   ]
  },
  {
   "cell_type": "code",
   "execution_count": 3,
   "id": "a7ed22b7-1925-4610-b393-61b4c09f5e14",
   "metadata": {},
   "outputs": [
    {
     "name": "stdin",
     "output_type": "stream",
     "text": [
      "num = -9\n"
     ]
    },
    {
     "name": "stdout",
     "output_type": "stream",
     "text": [
      " number is negative integer\n"
     ]
    }
   ],
   "source": [
    "i= int(input(\"num =\"))\n",
    "if i>0:\n",
    "    print(\" number is positive integer\")\n",
    "else:\n",
    "    print(\" number is negative integer\")"
   ]
  },
  {
   "cell_type": "markdown",
   "id": "7c08b151-98f4-4cdd-9c6d-ad97462dd56e",
   "metadata": {},
   "source": [
    "2. Check Whether a Number is Even or Odd in Python\n",
    "   \n",
    "   Given an integer input num, the objective is to write a code to Check Whether a Number is Even or Odd in Python. To do so we check if the number is divisible by 2 or not, it’s Even if it’s divisible otherwise Odd"
   ]
  },
  {
   "cell_type": "code",
   "execution_count": 7,
   "id": "2f1bf318-c1ee-4c1a-b3b9-d443c852eea2",
   "metadata": {},
   "outputs": [
    {
     "name": "stdin",
     "output_type": "stream",
     "text": [
      "num= 89\n"
     ]
    },
    {
     "name": "stdout",
     "output_type": "stream",
     "text": [
      "number is odd\n"
     ]
    }
   ],
   "source": [
    " num = int(input(\"num=\"))\n",
    "if num%2==0:\n",
    "    print(\"number is even\")\n",
    "else:\n",
    "    print(\"number is odd\")"
   ]
  },
  {
   "cell_type": "markdown",
   "id": "c2157fae-9fae-4fcb-8de5-2f75b3082269",
   "metadata": {},
   "source": [
    "3. Find the Sum of The First N Natural Numbers in Python\n",
    "\n",
    "Given an integer input the objective is to write a code to Find the Sum of First N Natural Numbers\n"
   ]
  },
  {
   "cell_type": "code",
   "execution_count": 13,
   "id": "8c87538c-f7ff-4bad-8cab-11f73089a044",
   "metadata": {},
   "outputs": [
    {
     "name": "stdin",
     "output_type": "stream",
     "text": [
      "num= 7\n"
     ]
    },
    {
     "name": "stdout",
     "output_type": "stream",
     "text": [
      "28\n"
     ]
    }
   ],
   "source": [
    "num=int(input(\"num=\"))\n",
    "total=0\n",
    "for i in range (1,num+1):\n",
    "   total=total+i\n",
    "print(total)"
   ]
  },
  {
   "cell_type": "markdown",
   "id": "27065a25-af67-4f5d-8781-ce39e2fb8a8b",
   "metadata": {},
   "source": [
    "4. Find the Sum of N Natural Numbers in Python\n",
    "   \n",
    "Given an integer input number, the objective is to sum all the numbers that lay from 1 to the integer input number and print the sum"
   ]
  }
 ],
 "metadata": {
  "kernelspec": {
   "display_name": "Python [conda env:base] *",
   "language": "python",
   "name": "conda-base-py"
  },
  "language_info": {
   "codemirror_mode": {
    "name": "ipython",
    "version": 3
   },
   "file_extension": ".py",
   "mimetype": "text/x-python",
   "name": "python",
   "nbconvert_exporter": "python",
   "pygments_lexer": "ipython3",
   "version": "3.12.7"
  }
 },
 "nbformat": 4,
 "nbformat_minor": 5
}
